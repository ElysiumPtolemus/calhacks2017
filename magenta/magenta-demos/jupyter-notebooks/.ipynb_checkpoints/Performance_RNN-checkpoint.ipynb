{
 "cells": [
  {
   "cell_type": "markdown",
   "metadata": {},
   "source": [
    "# Performance RNN\n",
    "## Douglas Eck\n",
    "This notebook shows you how to generate new performed compositions from a trained Performance RNN model. You'll see how to download a bundle containing a pre-trained model, instantiate and initialize the model and generate new polyphonic performances. The notebook also shows some hyperparameters useful for controlling generation, such as ``temperature``.\n",
    "\n",
    "To hear the performances it is useful to have fluidsynth and pyfluidsynth installed. One way to install fluidsynth on OS X is via homebrew: ``brew install fluidsynth``.  One way ot install pyfluidsynth is via pip: ``pip install pyfluidsynth``."
   ]
  },
  {
   "cell_type": "code",
   "execution_count": 2,
   "metadata": {},
   "outputs": [],
   "source": [
    "import os\n",
    "from magenta.models.performance_rnn import performance_sequence_generator\n",
    "from magenta.protobuf import generator_pb2\n",
    "from magenta.protobuf import music_pb2\n",
    "\n",
    "import magenta.music as mm\n",
    "\n",
    "# Constants.\n",
    "BUNDLE_DIR = '/Users/wangan/Documents/calhacks2017/magenta/'\n",
    "MODEL_NAME = 'multiconditioned_performance_with_dynamics'\n",
    "BUNDLE_NAME = MODEL_NAME + '.mag'"
   ]
  },
  {
   "cell_type": "code",
   "execution_count": 4,
   "metadata": {},
   "outputs": [
    {
     "name": "stdout",
     "output_type": "stream",
     "text": [
      "INFO:tensorflow:Restoring parameters from /var/folders/9b/k4l4q4w15mz_q8h5c5qj1b2m0000gn/T/tmp5YOdlr/model.ckpt\n",
      "WARNING:tensorflow:Conditioning on note density but none requested, using default.\n",
      "WARNING:tensorflow:Conditioning on pitch histogram but none requested, using default.\n",
      "INFO:tensorflow:Need to generate 2899 more steps for this sequence, will try asking for 1160 RNN steps\n",
      "INFO:tensorflow:Beam search yields sequence with log-likelihood: -1386.067871 \n"
     ]
    },
    {
     "ename": "SyntaxError",
     "evalue": "'return' outside function (<ipython-input-4-fa854ddf390f>, line 10)",
     "output_type": "error",
     "traceback": [
      "\u001b[0;36m  File \u001b[0;32m\"<ipython-input-4-fa854ddf390f>\"\u001b[0;36m, line \u001b[0;32m10\u001b[0m\n\u001b[0;31m    return sequence\u001b[0m\n\u001b[0;31mSyntaxError\u001b[0m\u001b[0;31m:\u001b[0m 'return' outside function\n"
     ]
    }
   ],
   "source": [
    "mm.notebook_utils.download_bundle(BUNDLE_NAME, BUNDLE_DIR)\n",
    "bundle = mm.sequence_generator_bundle.read_bundle_file(os.path.join(BUNDLE_DIR, BUNDLE_NAME))\n",
    "generator_map = performance_sequence_generator.get_generator_map()\n",
    "generator = generator_map[MODEL_NAME](checkpoint=None, bundle=bundle)\n",
    "generator.initialize()\n",
    "generator_options = generator_pb2.GeneratorOptions()\n",
    "generator_options.args['temperature'].float_value = 0.6  # Higher is more random; 1.0 is default. \n",
    "generate_section = generator_options.generate_sections.add(start_time=0, end_time=30)\n",
    "sequence = generator.generate(music_pb2.NoteSequence(), generator_options)\n",
    "\n",
    "# Play and view this masterpiece.\n",
    "# mm.plot_sequence(sequence)\n",
    "mm.play_sequence(sequence, mm.midi_synth.fluidsynth)"
   ]
  },
  {
   "cell_type": "code",
   "execution_count": null,
   "metadata": {},
   "outputs": [],
   "source": []
  }
 ],
 "metadata": {
  "anaconda-cloud": {},
  "celltoolbar": "Raw Cell Format",
  "kernelspec": {
   "display_name": "Python 2",
   "language": "python",
   "name": "python2"
  },
  "language_info": {
   "codemirror_mode": {
    "name": "ipython",
    "version": 2
   },
   "file_extension": ".py",
   "mimetype": "text/x-python",
   "name": "python",
   "nbconvert_exporter": "python",
   "pygments_lexer": "ipython2",
   "version": "2.7.13"
  }
 },
 "nbformat": 4,
 "nbformat_minor": 1
}
